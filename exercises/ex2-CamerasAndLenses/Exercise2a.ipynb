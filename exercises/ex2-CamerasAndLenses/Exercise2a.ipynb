{
 "cells": [
  {
   "cell_type": "markdown",
   "metadata": {},
   "source": [
    "# Exercise 1"
   ]
  },
  {
   "cell_type": "code",
   "execution_count": 1,
   "metadata": {},
   "outputs": [],
   "source": [
    "import math"
   ]
  },
  {
   "cell_type": "code",
   "execution_count": 5,
   "metadata": {},
   "outputs": [
    {
     "data": {
      "text/plain": [
       "0.2914567944778671"
      ]
     },
     "execution_count": 5,
     "metadata": {},
     "output_type": "execute_result"
    }
   ],
   "source": [
    "# math.atan2(b, a)\n",
    "math.atan2(3,10)\n",
    "\n",
    "# It calculates the arc tangent of the two numbers a and b. It is similar to atan(b/a), but it uses the signs of both arguments to determine the quadrant of the result. \n",
    "# The function returns the arc tangent of the two numbers in radians. It is the same as the atan() function, but it also takes into account the sign of the two arguments to determine the correct quadrant of the result. \n",
    "# The function returns a value between -pi and pi. The function is defined as follows:"
   ]
  },
  {
   "cell_type": "markdown",
   "metadata": {},
   "source": [
    "# Exercise 2"
   ]
  },
  {
   "cell_type": "code",
   "execution_count": 15,
   "metadata": {},
   "outputs": [
    {
     "name": "stdout",
     "output_type": "stream",
     "text": [
      "0.01764705882352941\n",
      "0.015228426395939085\n",
      "0.015045135406218654\n",
      "0.015015015015015015\n"
     ]
    }
   ],
   "source": [
    "def camera_b_distance(f, g):\n",
    "    \"\"\"\n",
    "    camera_b_distance returns the distance (b) where the CCD should be placed\n",
    "    when the object distance (g) and the focal length (f) are given\n",
    "    :param f: Focal length\n",
    "    :param g: Object distance\n",
    "    :return: b, the distance where the CCD should be placed\n",
    "    \"\"\"\n",
    "    b = (g*f)/(g-f)\n",
    "    return b\n",
    "\n",
    "print(camera_b_distance(0.015,0.1))\n",
    "print(camera_b_distance(0.015,1))\n",
    "print(camera_b_distance(0.015,5))\n",
    "print(camera_b_distance(0.015,15))\n"
   ]
  },
  {
   "cell_type": "markdown",
   "metadata": {},
   "source": [
    "# Exercise 3"
   ]
  },
  {
   "cell_type": "code",
   "execution_count": 32,
   "metadata": {},
   "outputs": [
    {
     "name": "stdout",
     "output_type": "stream",
     "text": [
      "0.005005005005005005\n",
      "0.0018018018018018018\n",
      "0.01\n",
      "180.18018018018017\n",
      "65.23848614238565\n",
      "51.28201164861056\n"
     ]
    }
   ],
   "source": [
    "#angle_degrees = 180.0/math.pi * angle_radians\n",
    "thomas_h = 1.8\n",
    "thomas_d = 5\n",
    "f = 0.005\n",
    "#1.\n",
    "b = camera_b_distance(f, thomas_d)\n",
    "print(camera_b_distance(f, thomas_d))\n",
    "#2.\n",
    "thomas_h_ccd = (b*thomas_h)/thomas_d\n",
    "print(thomas_h_ccd)\n",
    "#3.\n",
    "print(6.4/640.0)\n",
    "#4.\n",
    "print(thomas_h_ccd/0.01*1000)\n",
    "#5.\n",
    "horizontal_radian = 2*math.atan2(3.2e-3,f)\n",
    "horizontal_degrees = 180.0/math.pi * horizontal_radian\n",
    "print(horizontal_degrees)\n",
    "#6.\n",
    "vertical_radian = 2*math.atan2(2.4e-3,f)\n",
    "vertical_degrees = 180.0/math.pi * vertical_radian\n",
    "print(vertical_degrees)\n",
    "\n"
   ]
  },
  {
   "cell_type": "code",
   "execution_count": null,
   "metadata": {},
   "outputs": [],
   "source": []
  }
 ],
 "metadata": {
  "kernelspec": {
   "display_name": "Python 3",
   "language": "python",
   "name": "python3"
  },
  "language_info": {
   "codemirror_mode": {
    "name": "ipython",
    "version": 3
   },
   "file_extension": ".py",
   "mimetype": "text/x-python",
   "name": "python",
   "nbconvert_exporter": "python",
   "pygments_lexer": "ipython3",
   "version": "3.11.5"
  }
 },
 "nbformat": 4,
 "nbformat_minor": 2
}
